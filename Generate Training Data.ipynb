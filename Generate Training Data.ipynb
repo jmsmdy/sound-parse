{
 "cells": [
  {
   "cell_type": "markdown",
   "metadata": {},
   "source": [
    "### Read info for preprocessed samples"
   ]
  },
  {
   "cell_type": "code",
   "execution_count": 3,
   "metadata": {},
   "outputs": [
    {
     "name": "stdout",
     "output_type": "stream",
     "text": [
      "{'BassClarinet_ff', 'EbClarinet_ff', 'Flute_nonvib_ff', 'Trumpet_novib_ff', 'Viola_arco_ff_sulD', 'Violin_arco_ff_sulE', 'Marimba_deadstroke_ff', 'Xylophone_hardrubber_ff', 'Viola_arco_ff_sulC', 'Viola_pizz_ff_sulA', 'TenorTrombone_ff', 'Marimba_roll_ff', 'BassTrombone_ff', 'Bass_pizz_ff_sulG', 'Horn_ff', 'Cello_pizz_ff_sulC', 'Bass_arco_ff_sulG', 'Cello_pizz_ff_sulD', 'Vibraphone_bow', 'SopSax_vib_ff', 'BbClarinet_ff', 'Viola_pizz_ff_sulG', 'BassFlute_ff', 'Tuba_ff', 'Marimba_rubber_ff', 'Xylophone_hardrubber_roll_ff', 'Violin_pizz_ff_sulE', 'AltoFlute_vib_ff', 'SopSax_nonvib_ff', 'Vibraphone_shortsustain_ff', 'Bassoon_ff', 'Oboe_ff', 'Bass_pizz_ff_sulD', 'bells_plastic_ff', 'AltoSax_vib_ff', 'Bass_pizz_ff_sulE', 'Cello_pizz_ff_sulG', 'Xylophone_rosewood_roll_ff', 'Bass_arco_ff_sulD', 'Crotale_ff', 'Violin_arco_ff_sulG', 'Bass_arco_ff_sulA', 'Violin_pizz_ff_sulD', 'bells_brass_ff', 'Marimba_yarn_ff', 'Cello_arco_ff_sulD', 'Bass_arco_ff_sulC', 'Viola_arco_ff_sulA', 'Viola_pizz_ff_sulC', 'Bass_pizz_ff_sulC', 'Vibraphone_dampen_ff', 'Viola_pizz_ff_sulD', 'Viola_arco_ff_sulG', 'Cello_pizz_ff_sulA', 'Violin_arco_ff_sulA', 'Violin_pizz_ff_sulG', 'Marimba_cord_ff', 'Flute_vib_ff', 'Violin_arco_ff_sulD', 'Cello_arco_ff_sulG', 'Bass_arco_ff_sulE', 'Vibraphone_sustain_ff', 'AltoSax_NoVib_ff', 'Trumpet_vib_ff', 'Cello_arco_ff_sulC', 'Bass_pizz_ff_sulA', 'Cello_arco_ff_sulA', 'Xylophone_rosewood_ff', 'Violin_pizz_ff_sulA'}\n"
     ]
    }
   ],
   "source": [
    "from os import listdir, getcwd, rename, remove\n",
    "from os.path import isfile, join\n",
    "\n",
    "path = join(getcwd(), 'preprocessed_samples')\n",
    "\n",
    "files = [f for f in listdir(path) if isfile(join(path, f)) and f[0] != '.']\n",
    "\n",
    "samples = []\n",
    "for f in files:\n",
    "    sample = {'instrument' : '_'.join(f.split('_')[:-1]),\n",
    "              'midi_number' : int(f.split('_')[-1][:-4]),\n",
    "              'filename' : join(path, f)}\n",
    "    samples.append(sample)\n",
    "\n",
    "samples = sorted(samples, key=lambda x: (x['instrument'], x['midi_number']))\n",
    "    \n",
    "instrument_names = set([s['instrument'] for s in samples])\n",
    "print(instrument_names)\n",
    "instruments = {}\n",
    "for inst in instrument_names:\n",
    "    samples_for_inst = {s['midi_number'] : s['filename'] for s in samples if s['instrument'] == inst}\n",
    "    instruments[inst] = {\n",
    "        'samples' : samples_for_inst,\n",
    "        'min_note' : min(samples_for_inst.keys()),\n",
    "        'max_note' : max(samples_for_inst.keys())\n",
    "    }"
   ]
  },
  {
   "cell_type": "code",
   "execution_count": 4,
   "metadata": {},
   "outputs": [
    {
     "name": "stdout",
     "output_type": "stream",
     "text": [
      "AltoFlute_vib_ff [55, 56, 57, 58, 59, 60, 61, 62, 63, 64, 65, 66, 67, 68, 69, 70, 71, 72, 73, 74, 75, 76, 77, 78, 79, 80, 81, 82, 83, 84, 85, 86, 87, 89, 90, 91]\n",
      "\n",
      "AltoSax_NoVib_ff [49, 50, 51, 52, 53, 54, 55, 56, 57, 58, 59, 60, 61, 62, 63, 64, 65, 66, 67, 68, 69, 70, 71, 72, 73, 74, 75, 76, 77, 78, 79, 80]\n",
      "\n",
      "AltoSax_vib_ff [49, 50, 51, 52, 53, 54, 55, 56, 57, 58, 59, 60, 61, 62, 63, 64, 65, 66, 67, 68, 69, 70, 71, 72, 73, 74, 75, 76, 77, 78, 79, 80]\n",
      "\n",
      "BassClarinet_ff [37, 38, 39, 40, 41, 42, 43, 44, 45, 46, 47, 48, 49, 50, 51, 52, 53, 54, 55, 56, 57, 58, 59, 60, 61, 62, 63, 64, 65, 66, 67, 68, 69, 70, 71, 72, 73, 74, 75, 76, 77, 78, 79, 80, 81, 82]\n",
      "\n",
      "BassFlute_ff [48, 49, 50, 51, 52, 53, 54, 55, 56, 57, 58, 59, 60, 61, 62, 63, 64, 65, 66, 67, 68, 69, 70, 71, 72, 73, 74, 75, 76, 77, 78, 79, 80, 81, 82, 83, 84, 85]\n",
      "\n",
      "BassTrombone_ff [25, 26, 27, 28, 29, 30, 31, 32, 33, 34, 35, 36, 37, 38, 39, 40, 41, 42, 43, 44, 45, 46, 47, 48, 49, 50, 51]\n",
      "\n",
      "Bass_arco_ff_sulA [33, 34, 35, 36, 37, 38, 39, 40, 41, 42, 43, 44, 45, 46, 47, 48, 49, 50, 51, 52, 53, 54, 55, 56, 57]\n",
      "\n",
      "Bass_arco_ff_sulC [24, 25, 26, 27]\n",
      "\n",
      "Bass_arco_ff_sulD [38, 39, 40, 41, 42, 43, 44, 45, 46, 47, 48, 49, 50, 51, 52, 53, 54, 55, 56, 57, 58, 59, 60, 61, 62]\n",
      "\n",
      "Bass_arco_ff_sulE [28, 29, 30, 31, 32, 33, 34, 35, 36, 37, 38, 39, 40, 41, 42, 43, 44, 45, 46, 47, 48, 49, 50, 51, 52]\n",
      "\n",
      "Bass_arco_ff_sulG [43, 44, 45, 46, 47, 48, 49, 50, 51, 52, 53, 54, 55, 56, 57, 58, 59, 60, 61, 62, 63, 64, 65, 66, 67]\n",
      "\n",
      "Bass_pizz_ff_sulA [33, 34, 35, 36, 37, 38, 39, 40, 41, 42, 43, 44, 45, 46, 47, 48, 49, 50, 51, 52, 53, 54, 55, 56, 57]\n",
      "\n",
      "Bass_pizz_ff_sulC [24, 25, 26, 27]\n",
      "\n",
      "Bass_pizz_ff_sulD [38, 39, 40, 41, 42, 43, 44, 45, 46, 47, 48, 49, 50, 51, 52, 53, 54, 55, 56, 57, 58, 59, 60, 61, 62]\n",
      "\n",
      "Bass_pizz_ff_sulE [28, 29, 30, 31, 32, 33, 34, 35, 36, 37, 38, 39, 40, 41, 42, 43, 44, 45, 46, 47, 48, 49, 50, 51, 52]\n",
      "\n",
      "Bass_pizz_ff_sulG [43, 44, 45, 46, 47, 48, 49, 50, 51, 52, 53, 54, 55, 56, 57, 58, 59, 60, 61, 62, 63, 64, 65, 66, 67]\n",
      "\n",
      "Bassoon_ff [34, 35, 36, 37, 38, 39, 40, 41, 42, 43, 44, 45, 46, 47, 48, 49, 50, 51, 52, 53, 54, 55, 56, 57, 58, 60, 61, 62, 63, 64, 65, 66, 67, 68, 69, 70, 71, 72, 73, 74]\n",
      "\n",
      "BbClarinet_ff [50, 51, 52, 53, 54, 55, 56, 57, 58, 59, 60, 61, 62, 63, 64, 65, 66, 67, 68, 69, 70, 71, 72, 73, 74, 75, 76, 77, 78, 79, 80, 81, 82, 83, 84, 85, 86, 87, 88, 89, 90, 91, 92, 93, 94, 95]\n",
      "\n",
      "Cello_arco_ff_sulA [57, 58, 59, 60, 61, 62, 63, 64, 65, 66, 67, 68, 69, 70, 71, 72, 73, 74, 75, 76, 77, 78, 79, 80, 81]\n",
      "\n",
      "Cello_arco_ff_sulC [36, 37, 38, 39, 40, 41, 42, 43, 44, 45, 46, 47, 48, 49, 50, 51, 52, 53, 54, 55, 56, 57, 58, 59, 60]\n",
      "\n",
      "Cello_arco_ff_sulD [50, 51, 52, 53, 54, 55, 56, 57, 58, 59, 60, 61, 62, 63, 64, 65, 66, 67, 68, 69, 70, 71, 72, 73, 74]\n",
      "\n",
      "Cello_arco_ff_sulG [43, 44, 45, 46, 47, 48, 49, 50, 51, 52, 53, 54, 55, 56, 57, 58, 59, 60, 61, 62]\n",
      "\n",
      "Cello_pizz_ff_sulA [57, 58, 59, 60, 61, 62, 63, 64, 65, 66, 67, 68, 69, 70, 71, 72, 73, 74, 75, 76, 77, 78, 79, 80, 81]\n",
      "\n",
      "Cello_pizz_ff_sulC [36, 37, 38, 39, 40, 41, 42, 43, 44, 45, 46, 47, 48, 49, 50, 51, 52, 53, 54, 55, 56, 57, 58, 59, 60]\n",
      "\n",
      "Cello_pizz_ff_sulD [50, 51, 52, 53, 54, 55, 56, 57, 58, 59, 60, 61, 62, 63, 64, 65, 66, 67, 68, 69, 70, 71, 72, 73, 74]\n",
      "\n",
      "Cello_pizz_ff_sulG [43, 44, 45, 46, 47, 48, 49, 50, 51, 52, 53, 54, 55, 56, 57, 58, 59, 60, 61, 62, 63, 64, 65, 66, 67]\n",
      "\n",
      "Crotale_ff [84, 85, 86, 87, 88, 89, 90, 91, 92, 93, 94, 95, 96, 97, 98, 99, 100, 101, 102, 103, 104, 105, 106, 107, 108]\n",
      "\n",
      "EbClarinet_ff [55, 56, 57, 58, 59, 60, 61, 62, 63, 64, 65, 66, 67, 68, 69, 70, 71, 72, 73, 74, 75, 76, 77, 78, 79, 80, 81, 82, 83, 84, 85, 86, 87, 88, 89, 90, 91, 92, 93]\n",
      "\n",
      "Flute_nonvib_ff [59, 60, 61, 62, 63, 64, 65, 66, 67, 68, 69, 70, 71, 72, 73, 74, 75, 76, 77, 78, 79, 80, 81, 82, 83, 84, 85, 86, 87, 88, 89, 90, 91, 92, 93, 94, 95, 96, 97]\n",
      "\n",
      "Flute_vib_ff [59, 60, 61, 62, 63, 64, 65, 66, 67, 68, 69, 70, 71, 72, 73, 74, 75, 76, 77, 78, 79, 80, 81, 82, 83, 84, 85, 86, 87, 88, 89, 90, 91, 92, 93, 94, 95, 97]\n",
      "\n",
      "Horn_ff [34, 35, 36, 37, 38, 39, 40, 41, 42, 43, 44, 45, 46, 47, 48, 49, 50, 51, 52, 53, 54, 55, 56, 57, 58, 59, 60, 61, 62, 63, 64, 65, 66, 67, 68, 69, 70, 71, 72, 73, 74, 75, 76, 77]\n",
      "\n",
      "Marimba_cord_ff [36, 37, 38, 39, 40, 41, 42, 43, 44, 45, 46, 47, 48, 49, 50, 51, 52, 53, 54, 55, 56, 57, 58, 59, 60, 61, 62, 63, 64, 65, 66, 67, 68, 69, 70, 71, 72, 73, 74, 75, 76, 77, 78, 79, 80, 81, 82, 83, 84, 85, 86, 87, 88, 89, 90, 91, 92, 93, 94, 95, 96]\n",
      "\n",
      "Marimba_deadstroke_ff [36, 37, 38, 39, 40, 41, 42, 43, 44, 45, 46, 47, 48, 49, 50, 51, 52, 53, 54, 55, 56, 57, 58, 59, 60, 61, 62, 63, 64, 65, 66, 67, 69, 70, 71, 72, 73, 74, 75, 76, 77, 78, 79, 80, 81, 82, 83, 84, 85, 86, 87, 88, 89, 90, 91, 92, 93, 94, 95, 96]\n",
      "\n",
      "Marimba_roll_ff [36, 37, 38, 39, 40, 41, 42, 43, 44, 45, 46, 47, 48, 49, 50, 51, 52, 53, 54, 55, 56, 57, 58, 59, 60, 61, 62, 63, 64, 65, 66, 67, 68, 69, 70, 71, 72, 73, 74, 75, 76, 77, 78, 79, 80, 81, 82, 83, 84, 85, 86, 87, 88, 89, 90, 91, 92, 93, 94, 95, 96]\n",
      "\n",
      "Marimba_rubber_ff [36, 37, 38, 39, 40, 41, 42, 43, 44, 45, 46, 47, 48, 49, 50, 51, 52, 53, 54, 55, 56, 57, 58, 59, 60, 61, 62, 63, 64, 65, 66, 67, 68, 69, 70, 71, 72, 73, 74, 75, 76, 77, 78, 79, 80, 81, 82, 83, 84, 85, 86, 87, 88, 89, 90, 91, 92, 93, 94, 95, 96]\n",
      "\n",
      "Marimba_yarn_ff [36, 37, 39, 40, 41, 42, 43, 44, 45, 46, 47, 48, 49, 50, 51, 52, 53, 54, 55, 56, 57, 58, 59, 60, 61, 62, 63, 64, 65, 66, 67, 68, 69, 70, 71, 72, 73, 74, 75, 76, 77, 78, 79, 80, 81, 82, 83, 84, 85, 86, 87, 88, 89, 90, 91, 92, 93, 94, 95, 96]\n",
      "\n",
      "Oboe_ff [58, 59, 60, 61, 62, 63, 64, 65, 66, 67, 68, 69, 70, 71, 72, 73, 74, 75, 76, 77, 78, 79, 80, 81, 82, 83, 84, 85, 86, 87, 88, 89, 90, 91, 92]\n",
      "\n",
      "SopSax_nonvib_ff [56, 57, 58, 59, 60, 61, 62, 63, 64, 65, 66, 67, 68, 69, 70, 71, 72, 73, 74, 75, 76, 77, 78, 79, 80, 81, 82, 83, 84, 86, 87, 88]\n",
      "\n",
      "SopSax_vib_ff [56, 57, 58, 59, 60, 61, 62, 63, 64, 65, 66, 67, 68, 69, 70, 71, 72, 73, 74, 75, 76, 77, 78, 79, 80, 81, 82, 83, 84, 86, 87, 88]\n",
      "\n",
      "TenorTrombone_ff [40, 41, 42, 43, 44, 45, 46, 47, 48, 49, 50, 51, 52, 53, 54, 55, 56, 57, 58, 59, 60, 61, 62, 63, 64, 65, 66, 67, 68, 69, 70, 71, 72]\n",
      "\n",
      "Trumpet_novib_ff [52, 53, 54, 55, 56, 57, 58, 59, 60, 61, 62, 63, 64, 65, 66, 67, 68, 69, 70, 71, 72, 73, 74, 75, 76, 77, 78, 79, 80, 81, 82, 83, 84, 85, 86, 87]\n",
      "\n",
      "Trumpet_vib_ff [52, 53, 54, 55, 56, 57, 58, 59, 60, 61, 62, 63, 64, 65, 66, 67, 68, 69, 70, 71, 72, 73, 74, 75, 76, 77, 78, 79, 80, 81, 82, 83, 84, 85, 86]\n",
      "\n",
      "Tuba_ff [24, 25, 26, 27, 28, 29, 30, 31, 32, 33, 34, 35, 36, 37, 38, 39, 40, 41, 42, 43, 44, 45, 46, 47, 48, 49, 50, 51, 52, 53, 54, 55, 56, 57, 58, 59, 60]\n",
      "\n",
      "Vibraphone_bow [48, 49, 50, 51, 52, 53, 54, 55, 56, 57, 58, 59, 60, 61, 62, 63, 64, 65, 66, 67, 68, 69, 70, 71, 72, 73, 74, 75, 76, 77, 78, 79, 80, 81, 82, 83, 84, 85, 86, 87, 88, 89]\n",
      "\n",
      "Vibraphone_dampen_ff [48, 49, 50, 51, 52, 53, 54, 55, 56, 57, 58, 59, 60, 61, 62, 63, 64, 65, 66, 67, 68, 69, 70, 71, 72, 73, 74, 75, 76, 77, 78, 79, 80, 81, 82, 83, 84, 85, 86, 87, 88, 89]\n",
      "\n",
      "Vibraphone_shortsustain_ff [48, 49, 50, 51, 52, 53, 54, 55, 56, 57, 58, 59, 60, 61, 62, 63, 64, 65, 66, 67, 68, 69, 70, 71, 72, 73, 74, 75, 76, 77, 78, 79, 80, 81, 82, 83, 84, 85, 86, 87, 88, 89]\n",
      "\n",
      "Vibraphone_sustain_ff [48, 49, 50, 51, 52, 53, 54, 55, 56, 57, 58, 59, 60, 61, 62, 64, 65, 66, 67, 68, 69, 70, 71, 72, 73, 74, 75, 76, 77, 78, 79, 80, 81, 82, 83, 84, 85, 86, 87, 88, 89]\n",
      "\n",
      "Viola_arco_ff_sulA [69, 70, 71, 72, 73, 74, 75, 76, 77, 78, 79, 80, 81, 82, 83, 84, 85, 86, 87, 88, 89, 90, 91, 92, 93]\n",
      "\n",
      "Viola_arco_ff_sulC [48, 49, 50, 51, 52, 53, 54, 55, 56, 57, 58, 59, 60, 61, 62, 63, 64, 65, 66, 67, 68, 69, 70, 71, 72]\n",
      "\n",
      "Viola_arco_ff_sulD [62, 63, 64, 65, 66, 67, 68, 69, 70, 71, 72, 73, 74, 75, 76, 77, 78, 79, 80, 81, 82, 83, 84, 85, 86]\n",
      "\n",
      "Viola_arco_ff_sulG [55, 56, 57, 58, 59, 60, 61, 62, 63, 64, 65, 66, 67, 68, 69, 70, 71, 72, 73, 74, 75, 76, 77, 78, 79]\n",
      "\n",
      "Viola_pizz_ff_sulA [69, 70, 71, 72, 73, 74, 75, 76, 77, 78, 79, 80, 81, 82, 83, 84, 85, 86, 87, 88, 89, 90, 91, 92, 93]\n",
      "\n",
      "Viola_pizz_ff_sulC [48, 49, 50, 51, 52, 53, 54, 55, 56, 57, 58, 59, 60, 61, 62, 63, 64, 65, 66, 67, 68, 69, 70, 71, 72]\n",
      "\n",
      "Viola_pizz_ff_sulD [62, 63, 64, 65, 66, 67, 68, 69, 70, 71, 72, 73, 74, 75, 76, 77, 78, 79, 80, 81, 82, 83, 84, 85, 86]\n",
      "\n",
      "Viola_pizz_ff_sulG [55, 56, 57, 58, 59, 60, 61, 62, 63, 64, 65, 66, 67, 68, 69, 70, 71, 72, 73, 74, 75, 76, 77, 78, 79]\n",
      "\n",
      "Violin_arco_ff_sulA [69, 70, 71, 72, 73, 74, 75, 76, 77, 78, 79, 80, 81, 83, 84, 85, 86, 87, 88, 89, 90, 91, 92]\n",
      "\n",
      "Violin_arco_ff_sulD [62, 63, 64, 65, 67, 68, 69, 70, 71, 72, 73, 74, 75, 76, 77, 78, 79, 80, 81, 82, 83, 84]\n",
      "\n",
      "Violin_arco_ff_sulE [76, 77, 78, 79, 80, 81, 82, 83, 84, 85, 86, 87, 88, 89, 90, 91, 92, 93, 94, 95, 96, 97, 98, 99, 100]\n",
      "\n",
      "Violin_arco_ff_sulG [55, 56, 57, 58, 59, 60, 61, 62, 63, 64, 65, 66, 67, 68, 69, 70, 71, 72, 73, 74]\n",
      "\n",
      "Violin_pizz_ff_sulA [69, 70, 71, 72, 73, 74, 75, 76, 77, 78, 79, 80, 81, 82, 83, 84, 85, 86, 87, 88, 89]\n",
      "\n",
      "Violin_pizz_ff_sulD [62, 63, 64, 65, 66, 67, 68, 69, 70, 71, 72, 73, 74, 75, 76, 77, 78, 79, 80, 81, 82, 83, 84]\n",
      "\n",
      "Violin_pizz_ff_sulE [76, 77, 78, 79, 80, 81, 82, 83, 84, 85, 86, 87, 88, 89, 90, 91, 92, 93, 94, 95, 96, 97, 98, 99, 100]\n",
      "\n",
      "Violin_pizz_ff_sulG [55, 56, 57, 58, 59, 60, 61, 62, 63, 64, 65, 66, 67, 68, 69, 70, 71, 72, 73, 74, 75, 76]\n",
      "\n",
      "Xylophone_hardrubber_ff [65, 66, 67, 68, 69, 70, 71, 72, 73, 74, 75, 76, 77, 78, 79, 80, 81, 82, 83, 84, 85, 86, 87, 88, 89, 90, 91, 92, 93, 94, 95, 96, 97, 98, 99, 100, 101, 102, 103, 104, 105, 106, 107, 108]\n",
      "\n",
      "Xylophone_hardrubber_roll_ff [65, 66, 67, 68, 69, 70, 71, 72, 73, 74, 75, 76, 77, 78, 79, 80, 81, 82, 83, 84, 85, 86, 87, 88, 89, 90, 91, 92, 93, 94, 95, 96, 97, 98, 99, 100, 101, 102, 103, 104, 105, 106, 107, 108]\n",
      "\n",
      "Xylophone_rosewood_ff [65, 66, 67, 68, 69, 70, 71, 72, 73, 74, 75, 76, 77, 78, 79, 80, 81, 82, 83, 84, 85, 86, 87, 88, 89, 90, 91, 92, 93, 94, 95, 96, 97, 98, 99, 100, 101, 102, 103, 104, 105, 106, 107, 108]\n",
      "\n",
      "Xylophone_rosewood_roll_ff [65, 66, 67, 68, 69, 70, 71, 72, 73, 74, 75, 76, 77, 78, 79, 80, 81, 82, 83, 84, 85, 86, 87, 88, 89, 90, 91, 92, 93, 94, 95, 97, 98, 99, 100, 101, 102, 103, 104, 105, 106, 107, 108]\n",
      "\n",
      "bells_brass_ff [72, 73, 74, 75, 76, 77, 78, 79, 80, 81, 82, 83, 84, 85, 86, 87, 88, 89, 90, 91, 92, 93, 94, 95, 96, 97, 98, 99, 100, 101, 102, 103, 104, 105, 106, 107, 108, 109, 110, 111, 112]\n",
      "\n",
      "bells_plastic_ff [72, 73, 74, 75, 76, 77, 78, 79, 80, 81, 82, 83, 84, 85, 86, 87, 88, 89, 90, 91, 92, 93, 94, 95, 96, 97, 98, 99, 100, 101, 102, 103, 104, 105, 106, 107, 108, 109, 110, 111, 112]\n",
      "\n"
     ]
    }
   ],
   "source": [
    "for inst in sorted(instruments):\n",
    "    print(inst, sorted(list(instruments[inst]['samples'].keys())) )\n",
    "    print('')"
   ]
  },
  {
   "cell_type": "markdown",
   "metadata": {},
   "source": [
    "### Create soundbank with nice subset of instruments+expressions"
   ]
  },
  {
   "cell_type": "code",
   "execution_count": 5,
   "metadata": {},
   "outputs": [],
   "source": [
    "restricted_instruments = ['AltoSax_NoVib_ff',\n",
    "                          'BassClarinet_ff',\n",
    "                          'BassFlute_ff',\n",
    "                          'BassTrombone_ff',\n",
    "                          'Bass_arco_ff_sulA',\n",
    "                          'Bass_arco_ff_sulD',\n",
    "                          'Bass_arco_ff_sulE',\n",
    "                          'Bass_arco_ff_sulG',\n",
    "                          'Bass_pizz_ff_sulA',\n",
    "                          'Bass_pizz_ff_sulD',\n",
    "                          'Bass_pizz_ff_sulE',\n",
    "                          'Bass_pizz_ff_sulG',\n",
    "                          'BbClarinet_ff',\n",
    "                          'Cello_arco_ff_sulA',\n",
    "                          'Cello_arco_ff_sulC',\n",
    "                          'Cello_arco_ff_sulD',\n",
    "                          'Cello_arco_ff_sulG',\n",
    "                          'Cello_pizz_ff_sulA',\n",
    "                          'Cello_pizz_ff_sulC',\n",
    "                          'Cello_pizz_ff_sulD',\n",
    "                          'Cello_pizz_ff_sulG',\n",
    "                          'Crotale_ff',\n",
    "                          'EbClarinet_ff',\n",
    "                          'Flute_nonvib_ff',\n",
    "                          'Horn_ff',\n",
    "                          'Marimba_cord_ff',\n",
    "                          'Marimba_roll_ff',\n",
    "                          'Marimba_rubber_ff',\n",
    "                          'Oboe_ff',\n",
    "                          'TenorTrombone_ff',\n",
    "                          'Trumpet_novib_ff',\n",
    "                          'Trumpet_vib_ff',\n",
    "                          'Tuba_ff',\n",
    "                          'Vibraphone_bow',\n",
    "                          'Vibraphone_dampen_ff',\n",
    "                          'Vibraphone_shortsustain_ff',\n",
    "                          'Viola_arco_ff_sulA',\n",
    "                          'Viola_arco_ff_sulC',\n",
    "                          'Viola_arco_ff_sulD',\n",
    "                          'Viola_arco_ff_sulG',\n",
    "                          'Viola_pizz_ff_sulA',\n",
    "                          'Viola_pizz_ff_sulC',\n",
    "                          'Viola_pizz_ff_sulD',\n",
    "                          'Viola_pizz_ff_sulG',\n",
    "                          'Violin_pizz_ff_sulA',\n",
    "                          'Violin_pizz_ff_sulD',\n",
    "                          'Violin_pizz_ff_sulE',\n",
    "                          'Violin_pizz_ff_sulG',\n",
    "                          'Xylophone_hardrubber_ff',\n",
    "                          'Xylophone_hardrubber_roll_ff',\n",
    "                          'Xylophone_rosewood_ff',\n",
    "                          'bells_brass_ff',\n",
    "                          'bells_plastic_ff']"
   ]
  },
  {
   "cell_type": "code",
   "execution_count": 6,
   "metadata": {},
   "outputs": [],
   "source": [
    "soundfont = {}\n",
    "soundbank_ref = []\n",
    "k = 0\n",
    "for inst in restricted_instruments:\n",
    "    soundfont[inst] = {}\n",
    "    for i in range(128):\n",
    "        if instruments[inst]['min_note'] <= i <= instruments[inst]['max_note']:\n",
    "            soundfont[inst][i] = (k, instruments[inst]['samples'][i])\n",
    "            soundbank_ref.append((inst, i))\n",
    "            k += 1\n",
    "        else:\n",
    "            soundfont[inst][i] = None\n",
    "            \n",
    "soundbank = [soundfont[x[0]][x[1]][1] for x in soundbank_ref]"
   ]
  },
  {
   "cell_type": "markdown",
   "metadata": {},
   "source": [
    "### Define matrix transformations to randomly swap samples and pitch shift each instrument, in terms of soundbank indices"
   ]
  },
  {
   "cell_type": "code",
   "execution_count": 32,
   "metadata": {},
   "outputs": [],
   "source": [
    "import numpy as np\n",
    "\n",
    "def swap_shift_matrix(inst1, inst2, pitch_shift):\n",
    "    cols = []\n",
    "    for k in range(len(soundbank_ref)):\n",
    "        col = [1 if (soundfont[soundbank_ref[j][0]][soundbank_ref[j][1]] and \n",
    "               soundbank_ref[j][0] == inst2 and\n",
    "               soundbank_ref[k][0] == inst1 and\n",
    "               soundbank_ref[j][1] == soundbank_ref[k][1] + pitch_shift) else 0 for j in range(len(soundbank_ref))]\n",
    "        cols.append(col)\n",
    "    return np.array(cols).T"
   ]
  },
  {
   "cell_type": "code",
   "execution_count": 16,
   "metadata": {},
   "outputs": [],
   "source": [
    "import numpy as np\n",
    "\n",
    "def random_perm_matrix(size=len(soundbank)):\n",
    "    matrix = np.diag([1 for i in range(size)])\n",
    "    return np.random.permutation(matrix)"
   ]
  },
  {
   "cell_type": "code",
   "execution_count": 17,
   "metadata": {},
   "outputs": [],
   "source": [
    "def random_endo_matrix(size=len(soundbank)):\n",
    "    matrix = np.diag([1 for i in range(size)])\n",
    "    idx = np.random.randint(size, size=size)\n",
    "    return matrix[:,idx]"
   ]
  },
  {
   "cell_type": "code",
   "execution_count": 18,
   "metadata": {},
   "outputs": [],
   "source": [
    "upshift_matrix_cols = []\n",
    "\n",
    "for k in range(len(soundbank_ref)):\n",
    "    inst, i = soundbank_ref[k]\n",
    "    if (i < 127) and soundfont[inst][i+1]:\n",
    "        upshift_matrix_cols.append([1 if j == k+1 else 0 for j in range(len(soundbank))])\n",
    "    else:\n",
    "        upshift_matrix_cols.append([0 for j in range(len(soundbank))])\n",
    "\n",
    "upshift_matrix = np.array(upshift_matrix_cols).T\n",
    "\n",
    "downshift_matrix_cols = []\n",
    "\n",
    "for k in range(len(soundbank_ref)):\n",
    "    inst, i = soundbank_ref[k]\n",
    "    if (i > 0) and soundfont[inst][i-1]:\n",
    "        downshift_matrix_cols.append([1 if j == k-1 else 0 for j in range(len(soundbank))])\n",
    "    else:\n",
    "        downshift_matrix_cols.append([0 for j in range(len(soundbank))])\n",
    "\n",
    "downshift_matrix = np.array(downshift_matrix_cols).T"
   ]
  },
  {
   "cell_type": "markdown",
   "metadata": {},
   "source": [
    "### Auxiliary translation functions midi number <--> note name"
   ]
  },
  {
   "cell_type": "code",
   "execution_count": 10,
   "metadata": {},
   "outputs": [],
   "source": [
    "def note_name_to_midi_number(note_name): # Note names must be capital letters\n",
    "                                         # Valid inputs are C0 through G9\n",
    "    note_letter = note_name[:-1]\n",
    "    octave_number = int(note_name[-1])\n",
    "    note_number = {'C' : 0,\n",
    "                   'C#' : 1, 'Db': 1,\n",
    "                   'D' : 2,\n",
    "                   'D#' : 3, 'Eb' : 3,\n",
    "                   'E' : 4,\n",
    "                   'F' : 5,\n",
    "                   'F#' : 6, 'Gb': 6,\n",
    "                   'G' : 7,\n",
    "                   'G#': 8, 'Ab': 8,\n",
    "                   'A' : 9,\n",
    "                   'A#' : 10, 'Bb': 10,\n",
    "                   'B' : 11}\n",
    "    return 12*(1+octave_number) + note_number[note_letter]\n",
    "\n",
    "def note_midi_number_to_name(note_midi_number): # MIDI numbers must be integers\n",
    "                                                # Valid inputs are 12 through 127\n",
    "    octave_number = (note_midi_number // 12) - 1\n",
    "    note_number = note_midi_number % 12\n",
    "    note_letter = {0 : 'C',\n",
    "                   1: 'Db',\n",
    "                   2: 'D',\n",
    "                   3: 'Eb',\n",
    "                   4 : 'E',\n",
    "                   5 : 'F',\n",
    "                   6: 'Gb',\n",
    "                   7: 'G',\n",
    "                   8: 'Ab',\n",
    "                   9: 'A',\n",
    "                   10: 'Bb',\n",
    "                   11: 'B'}\n",
    "    return note_letter[note_number] + str(octave_number)"
   ]
  },
  {
   "cell_type": "code",
   "execution_count": 9,
   "metadata": {},
   "outputs": [
    {
     "data": {
      "text/plain": [
       "'Bb5'"
      ]
     },
     "execution_count": 9,
     "metadata": {},
     "output_type": "execute_result"
    }
   ],
   "source": [
    "note_midi_number_to_name(82)"
   ]
  },
  {
   "cell_type": "code",
   "execution_count": null,
   "metadata": {},
   "outputs": [],
   "source": []
  },
  {
   "cell_type": "code",
   "execution_count": 83,
   "metadata": {},
   "outputs": [],
   "source": [
    "import soundfile as sf\n",
    "\n",
    "sample1, sr1 = sf.read(instruments['Violin_arco_ff_sulA']['samples'][70])\n",
    "sample2, sr2 = sf.read(instruments['Violin_arco_ff_sulA']['samples'][71])\n",
    "sample3, sr3 = sf.read(instruments['Violin_arco_ff_sulA']['samples'][72])"
   ]
  },
  {
   "cell_type": "code",
   "execution_count": 84,
   "metadata": {},
   "outputs": [],
   "source": [
    "a = {}\n",
    "sr=sr1\n",
    "\n",
    "a[0] = sample1[:,0]\n",
    "a[1] = sample2[:,0]\n",
    "a[2] = sample3[:,0]"
   ]
  },
  {
   "cell_type": "code",
   "execution_count": 85,
   "metadata": {},
   "outputs": [],
   "source": [
    "import numpy as np\n",
    "\n",
    "b = {0 : np.zeros(60*sr)}\n",
    "\n",
    "for i in a:\n",
    "    b[i+1] = np.zeros(60*sr)\n",
    "    b[i+1][:a[i].shape[0]] = a[i]"
   ]
  },
  {
   "cell_type": "code",
   "execution_count": 86,
   "metadata": {},
   "outputs": [
    {
     "data": {
      "text/plain": [
       "((2646000,), (2646000,))"
      ]
     },
     "execution_count": 86,
     "metadata": {},
     "output_type": "execute_result"
    }
   ],
   "source": [
    "b[0].shape, b[1].shape"
   ]
  },
  {
   "cell_type": "code",
   "execution_count": 87,
   "metadata": {},
   "outputs": [],
   "source": [
    "import pandas as pd"
   ]
  },
  {
   "cell_type": "code",
   "execution_count": 88,
   "metadata": {},
   "outputs": [
    {
     "data": {
      "text/plain": [
       "array([0., 0., 0., ..., 0., 0., 0.])"
      ]
     },
     "execution_count": 88,
     "metadata": {},
     "output_type": "execute_result"
    }
   ],
   "source": [
    "x = np.roll(b[1], 100000)\n",
    "y = np.roll(b[2], 120000)\n",
    "z = np.roll(b[3], 140000)\n",
    "\n",
    "w = x + y + z\n",
    "\n",
    "w"
   ]
  },
  {
   "cell_type": "code",
   "execution_count": 89,
   "metadata": {},
   "outputs": [],
   "source": [
    "import sounddevice as sd\n",
    "\n",
    "sd.play(w, sr)"
   ]
  },
  {
   "cell_type": "code",
   "execution_count": 92,
   "metadata": {},
   "outputs": [],
   "source": [
    "bpm = 240            # beats per minute\n",
    "spb = (60*sr) // bpm # sampes per beat\n",
    "\n",
    "# notes = np.zeros(bpm, dtype=int)"
   ]
  },
  {
   "cell_type": "code",
   "execution_count": 93,
   "metadata": {},
   "outputs": [],
   "source": [
    "notes = np.random.choice([0,0,0,0,0,0,0,0,0,0,0,0,0,0,0,0,0,0,0,1,2], size = bpm)"
   ]
  },
  {
   "cell_type": "code",
   "execution_count": 94,
   "metadata": {},
   "outputs": [
    {
     "data": {
      "text/plain": [
       "array([0, 0, 0, 0, 0, 0, 1, 0, 0, 0, 1, 0, 2, 0, 0, 0, 0, 0, 0, 0, 0, 0,\n",
       "       2, 0, 0, 0, 0, 2, 2, 0, 0, 2, 0, 1, 0, 0, 0, 0, 0, 0, 1, 0, 2, 1,\n",
       "       0, 0, 0, 0, 0, 0, 0, 0, 1, 0, 0, 0, 0, 0, 0, 0, 0, 0, 0, 0, 0, 0,\n",
       "       0, 0, 1, 0, 0, 0, 0, 0, 0, 0, 0, 0, 1, 0, 1, 0, 0, 0, 0, 0, 0, 0,\n",
       "       0, 0, 0, 0, 0, 0, 0, 0, 2, 0, 0, 0, 0, 2, 0, 0, 0, 0, 0, 0, 0, 0,\n",
       "       1, 1, 0, 0, 0, 0, 0, 0, 0, 0, 0, 2, 2, 0, 0, 0, 0, 2, 0, 0, 0, 0,\n",
       "       0, 2, 0, 0, 0, 0, 0, 0, 0, 2, 0, 0, 0, 0, 0, 0, 0, 0, 0, 0, 0, 0,\n",
       "       0, 2, 0, 0, 0, 0, 0, 0, 0, 0, 0, 0, 0, 0, 0, 0, 0, 0, 0, 0, 0, 0,\n",
       "       0, 0, 0, 0, 0, 0, 0, 0, 0, 0, 0, 2, 0, 0, 0, 0, 0, 0, 1, 0, 0, 0,\n",
       "       0, 0, 0, 0, 0, 0, 0, 0, 0, 0, 0, 0, 0, 0, 0, 0, 0, 0, 0, 0, 2, 0,\n",
       "       2, 0, 0, 0, 0, 2, 0, 0, 0, 0, 0, 0, 0, 0, 0, 0, 0, 0, 1, 0])"
      ]
     },
     "execution_count": 94,
     "metadata": {},
     "output_type": "execute_result"
    }
   ],
   "source": [
    "notes"
   ]
  },
  {
   "cell_type": "code",
   "execution_count": 81,
   "metadata": {},
   "outputs": [],
   "source": [
    "# notes = np.vectorize(lambda x: max(x,-1))(notes)"
   ]
  },
  {
   "cell_type": "code",
   "execution_count": 96,
   "metadata": {},
   "outputs": [],
   "source": [
    "w = np.zeros(60*sr)\n",
    "\n",
    "for i, note in enumerate(notes):\n",
    "    w += np.roll(b[note], i*spb)"
   ]
  },
  {
   "cell_type": "code",
   "execution_count": 24,
   "metadata": {},
   "outputs": [],
   "source": [
    "import sounddevice as sd\n",
    "\n",
    "#sd.play(w, sr)"
   ]
  },
  {
   "cell_type": "code",
   "execution_count": null,
   "metadata": {},
   "outputs": [],
   "source": []
  },
  {
   "cell_type": "code",
   "execution_count": null,
   "metadata": {},
   "outputs": [],
   "source": [
    "def add_note(sound_df, )"
   ]
  },
  {
   "cell_type": "markdown",
   "metadata": {},
   "source": [
    "### Definition of Song class"
   ]
  },
  {
   "cell_type": "code",
   "execution_count": 11,
   "metadata": {},
   "outputs": [],
   "source": [
    "import soundfile as sf\n",
    "import numpy as np\n",
    "\n",
    "class Song:\n",
    "    def __init__(self, sample_bank, length_in_beats, bpm, sr):\n",
    "        self.sample_bank = sample_bank\n",
    "        self.num_samples = len(sample_bank)\n",
    "        self.length_in_beats = length_in_beats\n",
    "        self.bpm = bpm\n",
    "        self.sr = sr\n",
    "        self.notes = np.zeros([length_in_beats, len(sample_bank)], dtype=bool)\n",
    "    def generate(self):\n",
    "        samples_per_beat = (self.sr * 60) // self.bpm\n",
    "        num_samples = samples_per_beat * self.length_in_beats\n",
    "        self.output = np.zeros(num_samples)\n",
    "        for i in range(self.length_in_beats):\n",
    "            for j in range(self.num_samples):\n",
    "                if self.notes[i][j]:\n",
    "                    sample, sr = sf.read(self.sample_bank[j])\n",
    "                    sample = sample[:,0]\n",
    "                    padded_sample = np.zeros(num_samples)\n",
    "                    padded_sample[:sample.shape[0]] = sample\n",
    "                    self.output += np.roll(padded_sample, i*samples_per_beat)\n",
    "                    self.output = self.output\n",
    "    def add(self, i, j):\n",
    "        self.notes[i][j] = 1\n",
    "    def transform(self, matrix):\n",
    "        for i in range(self.notes.shape[0]):\n",
    "            self.notes[i] = np.matmul(matrix, self.notes[i])"
   ]
  },
  {
   "cell_type": "code",
   "execution_count": 81,
   "metadata": {},
   "outputs": [],
   "source": [
    "song = Song(soundbank, 240, 240, 44100)"
   ]
  },
  {
   "cell_type": "code",
   "execution_count": 82,
   "metadata": {},
   "outputs": [],
   "source": [
    "import sounddevice as sd\n",
    "n = 0\n",
    "for i in range(180):\n",
    "    make_note = np.random.choice([0,0,0,1])\n",
    "    if make_note:\n",
    "        #lst = [k for k in list(range(len(song.sample_bank))) if soundbank_ref[k][0] == 'BassFlute_ff']\n",
    "        #j = lst[n % len(lst)]\n",
    "        #n += 1\n",
    "        j = np.random.choice(len(song.sample_bank))\n",
    "        song.add(i, j)\n",
    "\n",
    "song.generate()\n",
    "\n",
    "#sd.play(song.output)"
   ]
  },
  {
   "cell_type": "code",
   "execution_count": 83,
   "metadata": {},
   "outputs": [],
   "source": [
    "import copy\n",
    "\n",
    "song2 = copy.deepcopy(song)"
   ]
  },
  {
   "cell_type": "code",
   "execution_count": 84,
   "metadata": {},
   "outputs": [],
   "source": [
    "song2.transform(swap_shift_matrix('BassFlute_ff', 'BassClarinet_ff', 4))\n",
    "song2.generate()"
   ]
  },
  {
   "cell_type": "code",
   "execution_count": 85,
   "metadata": {},
   "outputs": [],
   "source": [
    "sd.play(song.output)"
   ]
  },
  {
   "cell_type": "code",
   "execution_count": 86,
   "metadata": {},
   "outputs": [],
   "source": [
    "sd.play(song2.output)"
   ]
  },
  {
   "cell_type": "code",
   "execution_count": 63,
   "metadata": {},
   "outputs": [],
   "source": [
    "sd.play(song.output + song2.output)"
   ]
  },
  {
   "cell_type": "code",
   "execution_count": 11,
   "metadata": {},
   "outputs": [],
   "source": [
    "from scipy.io.wavfile import write as wave_write\n",
    "\n",
    "wave_write('output2.wav', 44100, song.output)"
   ]
  },
  {
   "cell_type": "code",
   "execution_count": null,
   "metadata": {},
   "outputs": [],
   "source": []
  }
 ],
 "metadata": {
  "kernelspec": {
   "display_name": "Python 3",
   "language": "python",
   "name": "python3"
  },
  "language_info": {
   "codemirror_mode": {
    "name": "ipython",
    "version": 3
   },
   "file_extension": ".py",
   "mimetype": "text/x-python",
   "name": "python",
   "nbconvert_exporter": "python",
   "pygments_lexer": "ipython3",
   "version": "3.7.3"
  }
 },
 "nbformat": 4,
 "nbformat_minor": 2
}
