{
 "cells": [
  {
   "cell_type": "code",
   "execution_count": 24,
   "metadata": {},
   "outputs": [
    {
     "name": "stdout",
     "output_type": "stream",
     "text": [
      "{'Tuba_ff', 'Flute_nonvib_ff', 'Bass_arco_ff_sulA', 'Xylophone_hardrubber_ff', 'Violin_arco_ff_sulA', 'EbClarinet_ff', 'Bass_pizz_ff_sulG', 'Flute_vib_ff', 'Vibraphone_dampen_ff', 'Viola_arco_ff_sulD', 'Cello_pizz_ff_sulG', 'Violin_arco_ff_sulG', 'AltoFlute_vib_ff', 'Violin_pizz_ff_sulG', 'AltoSax_NoVib_ff', 'Bass_arco_ff_sulG', 'SopSax_vib_ff', 'Trumpet_novib_ff', 'BassFlute_ff', 'Violin_arco_ff_sulD', 'Violin_arco_ff_sulE', 'Marimba_deadstroke_ff', 'Cello_pizz_ff_sulC', 'Cello_arco_ff_sulA', 'Marimba_roll_ff', 'Marimba_yarn_ff', 'Bass_pizz_ff_sulD', 'Viola_pizz_ff_sulD', 'Xylophone_rosewood_ff', 'Xylophone_hardrubber_roll_ff', 'Oboe_ff', 'BassTrombone_ff', 'Cello_arco_ff_sulG', 'bells_brass_ff', 'Cello_pizz_ff_sulD', 'Marimba_rubber_ff', 'Bass_pizz_ff_sulA', 'Cello_arco_ff_sulD', 'Vibraphone_bow', 'Horn_ff', 'Bassoon_ff', 'Viola_arco_ff_sulG', 'BassClarinet_ff', 'Viola_arco_ff_sulA', 'Violin_pizz_ff_sulA', 'AltoSax_vib_ff', 'TenorTrombone_ff', 'Trumpet_vib_ff', 'Viola_pizz_ff_sulC', 'Bass_arco_ff_sulE', 'Cello_arco_ff_sulC', 'Violin_pizz_ff_sulE', 'Bass_pizz_ff_sulC', 'Bass_arco_ff_sulD', 'bells_plastic_ff', 'BbClarinet_ff', 'Vibraphone_shortsustain_ff', 'Bass_pizz_ff_sulE', 'Viola_pizz_ff_sulA', 'Marimba_cord_ff', 'SopSax_nonvib_ff', 'Vibraphone_sustain_ff', 'Viola_arco_ff_sulC', 'Bass_arco_ff_sulC', 'Xylophone_rosewood_roll_ff', 'Viola_pizz_ff_sulG', 'Crotale_ff', 'Violin_pizz_ff_sulD', 'Cello_pizz_ff_sulA'}\n"
     ]
    }
   ],
   "source": [
    "from os import listdir, getcwd, rename, remove\n",
    "from os.path import isfile, join\n",
    "\n",
    "path = join(getcwd(), 'preprocessed_samples')\n",
    "\n",
    "files = [f for f in listdir(path) if isfile(join(path, f)) and f[0] != '.']\n",
    "\n",
    "samples = []\n",
    "for f in files:\n",
    "    sample = {'instrument' : '_'.join(f.split('_')[:-1]),\n",
    "              'midi_number' : int(f.split('_')[-1][:-4]),\n",
    "              'filename' : join(path, f)}\n",
    "    samples.append(sample)\n",
    "\n",
    "samples = sorted(samples, key=lambda x: (x['instrument'], x['midi_number']))\n",
    "    \n",
    "instrument_names = set([s['instrument'] for s in samples])\n",
    "print(instrument_names)\n",
    "instruments = {}\n",
    "for inst in instrument_names:\n",
    "    samples_for_inst = {s['midi_number'] : s['filename'] for s in samples if s['instrument'] == inst}\n",
    "    instruments[inst] = {\n",
    "        'samples' : samples_for_inst,\n",
    "        'min_note' : min(samples_for_inst.keys()),\n",
    "        'max_note' : max(samples_for_inst.keys())\n",
    "    }"
   ]
  },
  {
   "cell_type": "code",
   "execution_count": 26,
   "metadata": {},
   "outputs": [
    {
     "name": "stdout",
     "output_type": "stream",
     "text": [
      "Tuba_ff (37, 37)\n",
      "Flute_nonvib_ff (39, 39)\n",
      "Bass_arco_ff_sulA (25, 25)\n",
      "Xylophone_hardrubber_ff (44, 44)\n",
      "Violin_arco_ff_sulA (23, 24)\n",
      "EbClarinet_ff (39, 39)\n",
      "Bass_pizz_ff_sulG (25, 25)\n",
      "Flute_vib_ff (38, 39)\n",
      "Vibraphone_dampen_ff (42, 42)\n",
      "Viola_arco_ff_sulD (25, 25)\n",
      "Cello_pizz_ff_sulG (25, 25)\n",
      "Violin_arco_ff_sulG (20, 20)\n",
      "AltoFlute_vib_ff (36, 37)\n",
      "Violin_pizz_ff_sulG (22, 22)\n",
      "AltoSax_NoVib_ff (32, 32)\n",
      "Bass_arco_ff_sulG (25, 25)\n",
      "SopSax_vib_ff (32, 33)\n",
      "Trumpet_novib_ff (36, 36)\n",
      "BassFlute_ff (38, 38)\n",
      "Violin_arco_ff_sulD (22, 23)\n",
      "Violin_arco_ff_sulE (25, 25)\n",
      "Marimba_deadstroke_ff (60, 61)\n",
      "Cello_pizz_ff_sulC (25, 25)\n",
      "Cello_arco_ff_sulA (25, 25)\n",
      "Marimba_roll_ff (61, 61)\n",
      "Marimba_yarn_ff (60, 61)\n",
      "Bass_pizz_ff_sulD (25, 25)\n",
      "Viola_pizz_ff_sulD (25, 25)\n",
      "Xylophone_rosewood_ff (44, 44)\n",
      "Xylophone_hardrubber_roll_ff (44, 44)\n",
      "Oboe_ff (35, 35)\n",
      "BassTrombone_ff (27, 27)\n",
      "Cello_arco_ff_sulG (20, 20)\n",
      "bells_brass_ff (27, 38)\n",
      "Cello_pizz_ff_sulD (25, 25)\n",
      "Marimba_rubber_ff (61, 61)\n",
      "Bass_pizz_ff_sulA (25, 25)\n",
      "Cello_arco_ff_sulD (25, 25)\n",
      "Vibraphone_bow (24, 42)\n",
      "Horn_ff (44, 44)\n",
      "Bassoon_ff (40, 41)\n",
      "Viola_arco_ff_sulG (25, 25)\n",
      "BassClarinet_ff (46, 46)\n",
      "Viola_arco_ff_sulA (25, 25)\n",
      "Violin_pizz_ff_sulA (21, 21)\n",
      "AltoSax_vib_ff (32, 32)\n",
      "TenorTrombone_ff (33, 33)\n",
      "Trumpet_vib_ff (35, 35)\n",
      "Viola_pizz_ff_sulC (25, 25)\n",
      "Bass_arco_ff_sulE (25, 25)\n",
      "Cello_arco_ff_sulC (25, 25)\n",
      "Violin_pizz_ff_sulE (25, 25)\n",
      "Bass_pizz_ff_sulC (4, 4)\n",
      "Bass_arco_ff_sulD (25, 25)\n",
      "bells_plastic_ff (41, 41)\n",
      "BbClarinet_ff (46, 46)\n",
      "Vibraphone_shortsustain_ff (5, 30)\n",
      "Bass_pizz_ff_sulE (25, 25)\n",
      "Viola_pizz_ff_sulA (25, 25)\n",
      "Marimba_cord_ff (61, 61)\n",
      "SopSax_nonvib_ff (32, 33)\n",
      "Vibraphone_sustain_ff (18, 39)\n",
      "Viola_arco_ff_sulC (25, 25)\n",
      "Bass_arco_ff_sulC (4, 4)\n",
      "Xylophone_rosewood_roll_ff (43, 44)\n",
      "Viola_pizz_ff_sulG (25, 25)\n",
      "Crotale_ff (10, 24)\n",
      "Violin_pizz_ff_sulD (23, 23)\n",
      "Cello_pizz_ff_sulA (25, 25)\n"
     ]
    }
   ],
   "source": [
    "for inst in instruments:\n",
    "    print(inst, (len(instruments[inst]['samples']), 1 + instruments[inst]['max_note'] - instruments[inst]['min_note']))"
   ]
  },
  {
   "cell_type": "code",
   "execution_count": 27,
   "metadata": {},
   "outputs": [
    {
     "data": {
      "text/plain": [
       "{'samples': {69: '/Users/flatrionschool/Flatiron/Projects/sound-shift/preprocessed_samples/Violin_arco_ff_sulA_69.wav',\n",
       "  70: '/Users/flatrionschool/Flatiron/Projects/sound-shift/preprocessed_samples/Violin_arco_ff_sulA_70.wav',\n",
       "  71: '/Users/flatrionschool/Flatiron/Projects/sound-shift/preprocessed_samples/Violin_arco_ff_sulA_71.wav',\n",
       "  72: '/Users/flatrionschool/Flatiron/Projects/sound-shift/preprocessed_samples/Violin_arco_ff_sulA_72.wav',\n",
       "  73: '/Users/flatrionschool/Flatiron/Projects/sound-shift/preprocessed_samples/Violin_arco_ff_sulA_73.wav',\n",
       "  74: '/Users/flatrionschool/Flatiron/Projects/sound-shift/preprocessed_samples/Violin_arco_ff_sulA_74.wav',\n",
       "  75: '/Users/flatrionschool/Flatiron/Projects/sound-shift/preprocessed_samples/Violin_arco_ff_sulA_75.wav',\n",
       "  76: '/Users/flatrionschool/Flatiron/Projects/sound-shift/preprocessed_samples/Violin_arco_ff_sulA_76.wav',\n",
       "  77: '/Users/flatrionschool/Flatiron/Projects/sound-shift/preprocessed_samples/Violin_arco_ff_sulA_77.wav',\n",
       "  78: '/Users/flatrionschool/Flatiron/Projects/sound-shift/preprocessed_samples/Violin_arco_ff_sulA_78.wav',\n",
       "  79: '/Users/flatrionschool/Flatiron/Projects/sound-shift/preprocessed_samples/Violin_arco_ff_sulA_79.wav',\n",
       "  80: '/Users/flatrionschool/Flatiron/Projects/sound-shift/preprocessed_samples/Violin_arco_ff_sulA_80.wav',\n",
       "  81: '/Users/flatrionschool/Flatiron/Projects/sound-shift/preprocessed_samples/Violin_arco_ff_sulA_81.wav',\n",
       "  83: '/Users/flatrionschool/Flatiron/Projects/sound-shift/preprocessed_samples/Violin_arco_ff_sulA_83.wav',\n",
       "  84: '/Users/flatrionschool/Flatiron/Projects/sound-shift/preprocessed_samples/Violin_arco_ff_sulA_84.wav',\n",
       "  85: '/Users/flatrionschool/Flatiron/Projects/sound-shift/preprocessed_samples/Violin_arco_ff_sulA_85.wav',\n",
       "  86: '/Users/flatrionschool/Flatiron/Projects/sound-shift/preprocessed_samples/Violin_arco_ff_sulA_86.wav',\n",
       "  87: '/Users/flatrionschool/Flatiron/Projects/sound-shift/preprocessed_samples/Violin_arco_ff_sulA_87.wav',\n",
       "  88: '/Users/flatrionschool/Flatiron/Projects/sound-shift/preprocessed_samples/Violin_arco_ff_sulA_88.wav',\n",
       "  89: '/Users/flatrionschool/Flatiron/Projects/sound-shift/preprocessed_samples/Violin_arco_ff_sulA_89.wav',\n",
       "  90: '/Users/flatrionschool/Flatiron/Projects/sound-shift/preprocessed_samples/Violin_arco_ff_sulA_90.wav',\n",
       "  91: '/Users/flatrionschool/Flatiron/Projects/sound-shift/preprocessed_samples/Violin_arco_ff_sulA_91.wav',\n",
       "  92: '/Users/flatrionschool/Flatiron/Projects/sound-shift/preprocessed_samples/Violin_arco_ff_sulA_92.wav'},\n",
       " 'min_note': 69,\n",
       " 'max_note': 92}"
      ]
     },
     "execution_count": 27,
     "metadata": {},
     "output_type": "execute_result"
    }
   ],
   "source": [
    "instruments['Violin_arco_ff_sulA']"
   ]
  },
  {
   "cell_type": "code",
   "execution_count": null,
   "metadata": {},
   "outputs": [],
   "source": []
  },
  {
   "cell_type": "code",
   "execution_count": null,
   "metadata": {},
   "outputs": [],
   "source": []
  },
  {
   "cell_type": "code",
   "execution_count": 30,
   "metadata": {},
   "outputs": [],
   "source": [
    "def note_name_to_midi_number(note_name): # Note names must be capital letters\n",
    "                                         # Valid inputs are C0 through G9\n",
    "    note_letter = note_name[:-1]\n",
    "    octave_number = int(note_name[-1])\n",
    "    note_number = {'C' : 0,\n",
    "                   'C#' : 1, 'Db': 1,\n",
    "                   'D' : 2,\n",
    "                   'D#' : 3, 'Eb' : 3,\n",
    "                   'E' : 4,\n",
    "                   'F' : 5,\n",
    "                   'F#' : 6, 'Gb': 6,\n",
    "                   'G' : 7,\n",
    "                   'G#': 8, 'Ab': 8,\n",
    "                   'A' : 9,\n",
    "                   'A#' : 10, 'Bb': 10,\n",
    "                   'B' : 11}\n",
    "    return 12*(1+octave_number) + note_number[note_letter]\n",
    "\n",
    "def note_midi_number_to_name(note_midi_number): # MIDI numbers must be integers\n",
    "                                                # Valid inputs are 12 through 127\n",
    "    octave_number = (note_midi_number // 12) - 1\n",
    "    note_number = note_midi_number % 12\n",
    "    note_letter = {0 : 'C',\n",
    "                   1: 'Db',\n",
    "                   2: 'D',\n",
    "                   3: 'Eb',\n",
    "                   4 : 'E',\n",
    "                   5 : 'F',\n",
    "                   6: 'Gb',\n",
    "                   7: 'G',\n",
    "                   8: 'Ab',\n",
    "                   9: 'A',\n",
    "                   10: 'Bb',\n",
    "                   11: 'B'}\n",
    "    return note_letter[note_number] + str(octave_number)"
   ]
  },
  {
   "cell_type": "code",
   "execution_count": 31,
   "metadata": {},
   "outputs": [
    {
     "data": {
      "text/plain": [
       "'Bb5'"
      ]
     },
     "execution_count": 31,
     "metadata": {},
     "output_type": "execute_result"
    }
   ],
   "source": [
    "note_midi_number_to_name(82)"
   ]
  },
  {
   "cell_type": "code",
   "execution_count": null,
   "metadata": {},
   "outputs": [],
   "source": []
  },
  {
   "cell_type": "code",
   "execution_count": null,
   "metadata": {},
   "outputs": [],
   "source": []
  },
  {
   "cell_type": "code",
   "execution_count": null,
   "metadata": {},
   "outputs": [],
   "source": []
  },
  {
   "cell_type": "code",
   "execution_count": 83,
   "metadata": {},
   "outputs": [],
   "source": [
    "import soundfile as sf\n",
    "\n",
    "sample1, sr1 = sf.read(instruments['Violin_arco_ff_sulA']['samples'][70])\n",
    "sample2, sr2 = sf.read(instruments['Violin_arco_ff_sulA']['samples'][71])\n",
    "sample3, sr3 = sf.read(instruments['Violin_arco_ff_sulA']['samples'][72])"
   ]
  },
  {
   "cell_type": "code",
   "execution_count": 84,
   "metadata": {},
   "outputs": [],
   "source": [
    "a = {}\n",
    "sr=sr1\n",
    "\n",
    "a[0] = sample1[:,0]\n",
    "a[1] = sample2[:,0]\n",
    "a[2] = sample3[:,0]"
   ]
  },
  {
   "cell_type": "code",
   "execution_count": 85,
   "metadata": {},
   "outputs": [],
   "source": [
    "import numpy as np\n",
    "\n",
    "b = {0 : np.zeros(60*sr)}\n",
    "\n",
    "for i in a:\n",
    "    b[i+1] = np.zeros(60*sr)\n",
    "    b[i+1][:a[i].shape[0]] = a[i]"
   ]
  },
  {
   "cell_type": "code",
   "execution_count": 86,
   "metadata": {},
   "outputs": [
    {
     "data": {
      "text/plain": [
       "((2646000,), (2646000,))"
      ]
     },
     "execution_count": 86,
     "metadata": {},
     "output_type": "execute_result"
    }
   ],
   "source": [
    "b[0].shape, b[1].shape"
   ]
  },
  {
   "cell_type": "code",
   "execution_count": 87,
   "metadata": {},
   "outputs": [],
   "source": [
    "import pandas as pd"
   ]
  },
  {
   "cell_type": "code",
   "execution_count": 88,
   "metadata": {},
   "outputs": [
    {
     "data": {
      "text/plain": [
       "array([0., 0., 0., ..., 0., 0., 0.])"
      ]
     },
     "execution_count": 88,
     "metadata": {},
     "output_type": "execute_result"
    }
   ],
   "source": [
    "x = np.roll(b[1], 100000)\n",
    "y = np.roll(b[2], 120000)\n",
    "z = np.roll(b[3], 140000)\n",
    "\n",
    "w = x + y + z\n",
    "\n",
    "w"
   ]
  },
  {
   "cell_type": "code",
   "execution_count": 89,
   "metadata": {},
   "outputs": [],
   "source": [
    "import sounddevice as sd\n",
    "\n",
    "sd.play(w, sr)"
   ]
  },
  {
   "cell_type": "code",
   "execution_count": 92,
   "metadata": {},
   "outputs": [],
   "source": [
    "bpm = 240            # beats per minute\n",
    "spb = (60*sr) // bpm # sampes per beat\n",
    "\n",
    "# notes = np.zeros(bpm, dtype=int)"
   ]
  },
  {
   "cell_type": "code",
   "execution_count": 93,
   "metadata": {},
   "outputs": [],
   "source": [
    "notes = np.random.choice([0,0,0,0,0,0,0,0,0,0,0,0,0,0,0,0,0,0,0,1,2], size = bpm)"
   ]
  },
  {
   "cell_type": "code",
   "execution_count": 94,
   "metadata": {},
   "outputs": [
    {
     "data": {
      "text/plain": [
       "array([0, 0, 0, 0, 0, 0, 1, 0, 0, 0, 1, 0, 2, 0, 0, 0, 0, 0, 0, 0, 0, 0,\n",
       "       2, 0, 0, 0, 0, 2, 2, 0, 0, 2, 0, 1, 0, 0, 0, 0, 0, 0, 1, 0, 2, 1,\n",
       "       0, 0, 0, 0, 0, 0, 0, 0, 1, 0, 0, 0, 0, 0, 0, 0, 0, 0, 0, 0, 0, 0,\n",
       "       0, 0, 1, 0, 0, 0, 0, 0, 0, 0, 0, 0, 1, 0, 1, 0, 0, 0, 0, 0, 0, 0,\n",
       "       0, 0, 0, 0, 0, 0, 0, 0, 2, 0, 0, 0, 0, 2, 0, 0, 0, 0, 0, 0, 0, 0,\n",
       "       1, 1, 0, 0, 0, 0, 0, 0, 0, 0, 0, 2, 2, 0, 0, 0, 0, 2, 0, 0, 0, 0,\n",
       "       0, 2, 0, 0, 0, 0, 0, 0, 0, 2, 0, 0, 0, 0, 0, 0, 0, 0, 0, 0, 0, 0,\n",
       "       0, 2, 0, 0, 0, 0, 0, 0, 0, 0, 0, 0, 0, 0, 0, 0, 0, 0, 0, 0, 0, 0,\n",
       "       0, 0, 0, 0, 0, 0, 0, 0, 0, 0, 0, 2, 0, 0, 0, 0, 0, 0, 1, 0, 0, 0,\n",
       "       0, 0, 0, 0, 0, 0, 0, 0, 0, 0, 0, 0, 0, 0, 0, 0, 0, 0, 0, 0, 2, 0,\n",
       "       2, 0, 0, 0, 0, 2, 0, 0, 0, 0, 0, 0, 0, 0, 0, 0, 0, 0, 1, 0])"
      ]
     },
     "execution_count": 94,
     "metadata": {},
     "output_type": "execute_result"
    }
   ],
   "source": [
    "notes"
   ]
  },
  {
   "cell_type": "code",
   "execution_count": 81,
   "metadata": {},
   "outputs": [],
   "source": [
    "# notes = np.vectorize(lambda x: max(x,-1))(notes)"
   ]
  },
  {
   "cell_type": "code",
   "execution_count": 96,
   "metadata": {},
   "outputs": [],
   "source": [
    "w = np.zeros(60*sr)\n",
    "\n",
    "for i, note in enumerate(notes):\n",
    "    w += np.roll(b[note], i*spb)"
   ]
  },
  {
   "cell_type": "code",
   "execution_count": 97,
   "metadata": {},
   "outputs": [],
   "source": [
    "import sounddevice as sd\n",
    "\n",
    "sd.play(w, sr)"
   ]
  },
  {
   "cell_type": "code",
   "execution_count": null,
   "metadata": {},
   "outputs": [],
   "source": []
  }
 ],
 "metadata": {
  "kernelspec": {
   "display_name": "Python 3",
   "language": "python",
   "name": "python3"
  },
  "language_info": {
   "codemirror_mode": {
    "name": "ipython",
    "version": 3
   },
   "file_extension": ".py",
   "mimetype": "text/x-python",
   "name": "python",
   "nbconvert_exporter": "python",
   "pygments_lexer": "ipython3",
   "version": "3.7.3"
  }
 },
 "nbformat": 4,
 "nbformat_minor": 2
}
