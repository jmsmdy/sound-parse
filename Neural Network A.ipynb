{
 "cells": [
  {
   "cell_type": "code",
   "execution_count": 4,
   "metadata": {},
   "outputs": [
    {
     "ename": "ModuleNotFoundError",
     "evalue": "No module named 'tensorflow.examples.tutorials'",
     "output_type": "error",
     "traceback": [
      "\u001b[0;31m---------------------------------------------------------------------------\u001b[0m",
      "\u001b[0;31mModuleNotFoundError\u001b[0m                       Traceback (most recent call last)",
      "\u001b[0;32m<ipython-input-4-8bf8ae5a5303>\u001b[0m in \u001b[0;36m<module>\u001b[0;34m\u001b[0m\n\u001b[0;32m----> 1\u001b[0;31m \u001b[0;32mfrom\u001b[0m \u001b[0mtensorflow\u001b[0m\u001b[0;34m.\u001b[0m\u001b[0mexamples\u001b[0m\u001b[0;34m.\u001b[0m\u001b[0mtutorials\u001b[0m\u001b[0;34m.\u001b[0m\u001b[0mmnist\u001b[0m \u001b[0;32mimport\u001b[0m \u001b[0minput_data\u001b[0m\u001b[0;34m\u001b[0m\u001b[0;34m\u001b[0m\u001b[0m\n\u001b[0m\u001b[1;32m      2\u001b[0m \u001b[0mmnist\u001b[0m \u001b[0;34m=\u001b[0m \u001b[0minput_data\u001b[0m\u001b[0;34m.\u001b[0m\u001b[0mread_data_sets\u001b[0m\u001b[0;34m(\u001b[0m\u001b[0;34m\"MNIST_data/\"\u001b[0m\u001b[0;34m,\u001b[0m \u001b[0mone_hot\u001b[0m\u001b[0;34m=\u001b[0m\u001b[0;32mTrue\u001b[0m\u001b[0;34m)\u001b[0m\u001b[0;34m\u001b[0m\u001b[0;34m\u001b[0m\u001b[0m\n",
      "\u001b[0;31mModuleNotFoundError\u001b[0m: No module named 'tensorflow.examples.tutorials'"
     ]
    }
   ],
   "source": [
    "from tensorflow.examples.tutorials.mnist import input_data\n",
    "mnist = input_data.read_data_sets(\"MNIST_data/\", one_hot=True)"
   ]
  },
  {
   "cell_type": "code",
   "execution_count": null,
   "metadata": {},
   "outputs": [],
   "source": [
    "learning_rate = 0.5\n",
    "epochs = 10\n",
    "batch_size = 100\n",
    "\n",
    "# declare the training data placeholders\n",
    "# input x - for 28 x 28 pixels = 784\n",
    "x = tf.placeholder(tf.float32, [None, 784])\n",
    "# now declare the output data placeholder - 10 digits\n",
    "y = tf.placeholder(tf.float32, [None, 10])"
   ]
  },
  {
   "cell_type": "code",
   "execution_count": null,
   "metadata": {},
   "outputs": [],
   "source": []
  },
  {
   "cell_type": "code",
   "execution_count": 6,
   "metadata": {},
   "outputs": [],
   "source": [
    "import keras.backend as K\n",
    "import tensorflow as tf"
   ]
  },
  {
   "cell_type": "code",
   "execution_count": null,
   "metadata": {},
   "outputs": [],
   "source": [
    "sample_rate = 16000.0\n",
    "# A Tensor of [batch_size, num_samples] mono PCM samples in the range [-1, 1].\n",
    "pcm = tf.compat.v1.placeholder(tf.float32, [None, None])\n",
    "\n",
    "# A 1024-point STFT with frames of 64 ms and 75% overlap.\n",
    "stfts = tf.signal.stft(pcm, frame_length=1024, frame_step=256,\n",
    "                       fft_length=1024)\n",
    "spectrograms = tf.abs(stfts)\n",
    "\n",
    "# Warp the linear scale spectrograms into the mel-scale.\n",
    "num_spectrogram_bins = stfts.shape[-1].value\n",
    "lower_edge_hertz, upper_edge_hertz, num_mel_bins = 80.0, 7600.0, 80\n",
    "linear_to_mel_weight_matrix = tf.signal.linear_to_mel_weight_matrix(\n",
    "  num_mel_bins, num_spectrogram_bins, sample_rate, lower_edge_hertz,\n",
    "  upper_edge_hertz)\n",
    "mel_spectrograms = tf.tensordot(\n",
    "  spectrograms, linear_to_mel_weight_matrix, 1)\n",
    "mel_spectrograms.set_shape(spectrograms.shape[:-1].concatenate(\n",
    "  linear_to_mel_weight_matrix.shape[-1:]))\n",
    "\n",
    "# Compute a stabilized log to get log-magnitude mel-scale spectrograms.\n",
    "log_mel_spectrograms = tf.math.log(mel_spectrograms + 1e-6)\n",
    "\n",
    "# Compute MFCCs from log_mel_spectrograms and take the first 13.\n",
    "mfccs = tf.signal.mfccs_from_log_mel_spectrograms(\n",
    "  log_mel_spectrograms)[..., :13]"
   ]
  },
  {
   "cell_type": "code",
   "execution_count": 7,
   "metadata": {},
   "outputs": [],
   "source": [
    "def mfccs(pcm):\n",
    "    #sample_rate = 44100.0\n",
    "    # Input is two tensors of [batch_size, num_samples] mono PCM samples in the range [-1, 1].\n",
    "    #pcm_left = tf.compat.v1.placeholder(tf.float32, [None, int(sample_rate*60)])\n",
    "    # pcm_right = tf.compat.v1.placeholder(tf.float32, [None, int(sample_rate*60)])\n",
    "\n",
    "    # A 2048-point STFT with frames of ??? ms and 75% overlap.\n",
    "    stfts = tf.signal.stft(pcm, frame_length=2048, frame_step=256, fft_length=2048)\n",
    "    spectrograms = tf.abs(stfts)\n",
    "\n",
    "    # Warp the linear scale spectrograms into the mel-scale.\n",
    "    num_spectrogram_bins = stfts.shape[-1].value\n",
    "    lower_edge_hertz, upper_edge_hertz, num_mel_bins = 80.0, 7600.0, 80\n",
    "    linear_to_mel_weight_matrix = tf.signal.linear_to_mel_weight_matrix(\n",
    "        num_mel_bins, num_spectrogram_bins, sample_rate, lower_edge_hertz,\n",
    "        upper_edge_hertz)\n",
    "    mel_spectrograms = tf.tensordot(spectrograms, linear_to_mel_weight_matrix, 1)\n",
    "    mel_spectrograms.set_shape(spectrograms.shape[:-1].concatenate(linear_to_mel_weight_matrix.shape[-1:]))\n",
    "    # Compute a stabilized log to get log-magnitude mel-scale spectrograms.\n",
    "    log_mel_spectrograms = tf.math.log(mel_spectrograms + 1e-6)\n",
    "    # Compute MFCCs from log_mel_spectrograms and take the first 13.\n",
    "    mfccs = tf.signal.mfccs_from_log_mel_spectrograms(log_mel_spectrograms)[..., :13]\n",
    "    return mfccs\n",
    "\n",
    "def customLoss(yTrue,yPred):\n",
    "    yTrue_left = yTrue[:,0]\n",
    "    yTrue_right = yTrue[:,1]\n",
    "    yPred_left = yPred[:,0]\n",
    "    yPred_right = yPred[:,1]\n",
    "    mfccs_true_left = mfccs(yTrue_left)\n",
    "    mfccs_true_right = mfccs(yTrue_right)\n",
    "    mfcss_pred_left = mfcss(yPred_left)\n",
    "    mfcss_pred_right = mfcss(yPred_right)\n",
    "    return tf.mse(mfccs_true_left, mfccs_pred_left) + tf.mse(mfcss_true_right, mfcss_pred_right)"
   ]
  },
  {
   "cell_type": "code",
   "execution_count": null,
   "metadata": {},
   "outputs": [],
   "source": []
  }
 ],
 "metadata": {
  "kernelspec": {
   "display_name": "Python 3",
   "language": "python",
   "name": "python3"
  },
  "language_info": {
   "codemirror_mode": {
    "name": "ipython",
    "version": 3
   },
   "file_extension": ".py",
   "mimetype": "text/x-python",
   "name": "python",
   "nbconvert_exporter": "python",
   "pygments_lexer": "ipython3",
   "version": "3.7.3"
  }
 },
 "nbformat": 4,
 "nbformat_minor": 2
}
